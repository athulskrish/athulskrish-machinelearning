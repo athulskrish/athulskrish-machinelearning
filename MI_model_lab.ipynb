{
  "nbformat": 4,
  "nbformat_minor": 0,
  "metadata": {
    "colab": {
      "provenance": [],
      "mount_file_id": "1pLQ2P8q0zw8T_6nweFs1wVphiY9p-RR7",
      "authorship_tag": "ABX9TyMpofvGC02qFrPaJ9h8domh",
      "include_colab_link": true
    },
    "kernelspec": {
      "name": "python3",
      "display_name": "Python 3"
    },
    "language_info": {
      "name": "python"
    }
  },
  "cells": [
    {
      "cell_type": "markdown",
      "metadata": {
        "id": "view-in-github",
        "colab_type": "text"
      },
      "source": [
        "<a href=\"https://colab.research.google.com/github/athulskrish/athulskrish-machinelearning_model_exam/blob/main/MI_model_lab.ipynb\" target=\"_parent\"><img src=\"https://colab.research.google.com/assets/colab-badge.svg\" alt=\"Open In Colab\"/></a>"
      ]
    },
    {
      "cell_type": "code",
      "execution_count": null,
      "metadata": {
        "colab": {
          "base_uri": "https://localhost:8080/"
        },
        "id": "mPComLD4azO6",
        "outputId": "f7673114-4d68-4266-edd0-2a6e9fedfa6e"
      },
      "outputs": [
        {
          "output_type": "stream",
          "name": "stdout",
          "text": [
            "training  1.0\n",
            "Testing  0.7760416666666666\n"
          ]
        }
      ],
      "source": [
        "#Random forest\n",
        "import numpy as np\n",
        "import pandas as pd\n",
        "from sklearn.model_selection import train_test_split\n",
        "from sklearn.ensemble import RandomForestClassifier\n",
        "\n",
        "diabetes=pd.read_csv('/content/drive/MyDrive/datasets/diabetes.csv')\n",
        "\n",
        "X=diabetes.drop('Outcome',axis=1)\n",
        "y=diabetes['Outcome']\n",
        "\n",
        "X_train,X_test,y_train,y_test=train_test_split(X,y,stratify=y,random_state=66)\n",
        "rfc=RandomForestClassifier(n_estimators=100,random_state=66)\n",
        "\n",
        "rfc.fit(X_train,y_train)\n",
        "\n",
        "train_accuracy=rfc.score(X_train,y_train)\n",
        "test_accuracy=rfc.score(X_test,y_test)\n",
        "print(\"training \", train_accuracy)\n",
        "print(\"Testing \",test_accuracy)"
      ]
    },
    {
      "cell_type": "code",
      "source": [
        "from numpy import mean\n",
        "from numpy import std\n",
        "from numpy import absolute\n",
        "from pandas import read_csv\n",
        "from sklearn.model_selection import cross_val_score\n",
        "from sklearn.model_selection import RepeatedKFold\n",
        "from sklearn.linear_model import Lasso\n",
        "\n",
        "# load the dataset\n",
        "url = '/content/drive/MyDrive/datasets/diabetes.csv'\n",
        "dataframe = read_csv(url, header=None)\n",
        "data = dataframe.values\n",
        "X, y = data[1:, :-1], data[1:, -1]\n",
        "\n",
        "# define model\n",
        "model = Lasso(alpha=1.0)\n",
        "\n",
        "# define model evaluation method\n",
        "cv = RepeatedKFold(n_splits=10, n_repeats=3, random_state=1)\n",
        "\n",
        "# evaluate model\n",
        "scores = cross_val_score(model, X, y, scoring='neg_mean_absolute_error', cv=cv, n_jobs=-1)\n",
        "\n",
        "# force scores to be positive\n",
        "scores = absolute(scores)\n",
        "print('Mean MAE: %.3f (%.3f)' % (mean(scores), std(scores)))\n",
        "\n",
        "# fit model\n",
        "model.fit(X, y)\n",
        "\n",
        "# define new data\n",
        "row = [1, 189, 60, 23, 846, 30.1, 0.398, 59]\n",
        "\n",
        "# make a prediction\n",
        "yhat = model.predict([row])\n",
        "\n",
        "# summarize prediction\n",
        "print(\"Predicted: %.0f\" % (yhat[0]))  # Use indexing to extract the first element\n",
        "\n"
      ],
      "metadata": {
        "colab": {
          "base_uri": "https://localhost:8080/"
        },
        "id": "kXRH23fuezVn",
        "outputId": "26ba6d4b-cd86-476f-f95d-67b49a4b3168"
      },
      "execution_count": null,
      "outputs": [
        {
          "output_type": "stream",
          "name": "stdout",
          "text": [
            "Mean MAE: 0.374 (0.022)\n",
            "Predicted: 1\n"
          ]
        }
      ]
    },
    {
      "cell_type": "code",
      "source": [
        "#lasso regression\n",
        "import numpy as np\n",
        "import pandas as pd\n",
        "from sklearn.model_selection import cross_val_score\n",
        "from sklearn.model_selection import RepeatedKFold\n",
        "from sklearn.linear_model import Lasso\n",
        "\n",
        "\n"
      ],
      "metadata": {
        "id": "MsvaXBvC_a-y"
      },
      "execution_count": null,
      "outputs": []
    },
    {
      "cell_type": "code",
      "source": [
        "#linear regression\n",
        "\n",
        "\n",
        "import numpy as np\n",
        "from sklearn.linear_model import LinearRegression\n",
        "from sklearn.metrics import  mean_squared_error\n",
        "\n",
        "\n",
        "experience= np.array([2.4,5.0,1.5,3.8,8.7,3.6,1.2,8.1,2.5,5,1.6,1.6,2.4,3.9,5.4])\n",
        "salary = np.array([2.1,4.7,1.7,3.6,8.7,3.2,1.0,8.0,2.4,6,1.1,1.3,2.4,3.9,4.8])\n",
        "\n",
        "experience=experience.reshape(-1,1)\n",
        "model=LinearRegression()\n",
        "model.fit(experience, salary)\n",
        "\n",
        "salary_predict= model.predict(experience)\n",
        "MSE=mean_squared_error(salary, salary_predict)\n",
        "\n",
        "print(\"Mean squared error \", MSE)\n",
        "\n",
        "print('slope : ', model.coef_)\n",
        "\n",
        "print('intercept : ', model.intercept_)\n",
        "\n",
        "\n",
        "import matplotlib.pyplot as plt\n",
        "plt.scatter(experience,salary,color = 'red')\n",
        "plt.plot(experience,salary_predict, color = 'green')\n",
        "plt.xlabel(\"experience\")\n",
        "plt.ylabel(\"salary\")\n"
      ],
      "metadata": {
        "colab": {
          "base_uri": "https://localhost:8080/",
          "height": 520
        },
        "id": "wa6xdXJif1NY",
        "outputId": "3c0e72c3-5e7d-40df-e615-3bc116f43aec"
      },
      "execution_count": null,
      "outputs": [
        {
          "output_type": "stream",
          "name": "stdout",
          "text": [
            "Mean squared error  0.12785817711928915\n",
            "slope :  [1.02474643]\n",
            "intercept :  -0.21354150071690547\n"
          ]
        },
        {
          "output_type": "execute_result",
          "data": {
            "text/plain": [
              "Text(0, 0.5, 'salary')"
            ]
          },
          "metadata": {},
          "execution_count": 29
        },
        {
          "output_type": "display_data",
          "data": {
            "text/plain": [
              "<Figure size 640x480 with 1 Axes>"
            ],
            "image/png": "[encoded data removed]"
          },
          "metadata": {}
        }
      ]
    },
    {
      "cell_type": "code",
      "source": [
        "\n",
        "import graphlib\n",
        "\n",
        "from collections import deque\n",
        "class Graph:\n",
        "    def __init__(self,adjac_lis):\n",
        "\n",
        "        self.adjac_lis=adjac_lis\n",
        "    def get_neighbors(self,v):\n",
        "        return self.adjac_lis[v]\n",
        "    def h(self,n):\n",
        "\n",
        "        H={'A' :1,'B' :1,'C' :1,'D' :1}\n",
        "        return H[n]\n",
        "    def a_star_algorithm(self,start,stop):\n",
        "\n",
        "        open_lst=set([start])\n",
        "        closed_lst=set([])\n",
        "        g={}\n",
        "        g[start]=0\n",
        "        par={}\n",
        "        par[start]=start\n",
        "        while len(open_lst)>0:\n",
        "                n=None\n",
        "                for v in open_lst:\n",
        "                     if n==None or g[v]+self.h(v)<g[n]+self.h(n):\n",
        "                         n=v;\n",
        "                if n==None:\n",
        "                    print('Path does not exist!')\n",
        "                    return None\n",
        "                if n==stop:\n",
        "                    reconst_path=[]\n",
        "                    while par[n]!=n:\n",
        "                        reconst_path.append(n)\n",
        "                        n=par[n]\n",
        "                    reconst_path.append(start)\n",
        "                    reconst_path.reverse()\n",
        "                    print('path found :{}'.format(reconst_path))\n",
        "                    return reconst_path\n",
        "                for (m,weight)in self.get_neighbors(n):\n",
        "                    if m not in open_lst and m not in closed_lst:\n",
        "                        open_lst.add(m)\n",
        "                        par[m]=n\n",
        "                        g[m]=g[n]+weight\n",
        "                    else:\n",
        "                        if g[m]>g[n]+weight:\n",
        "                            g[m]=g[n]+weight\n",
        "                            par[m]=n\n",
        "                            if m in closed_lst:\n",
        "                                closed_lst.remove(m)\n",
        "                                open_lst.add(m)\n",
        "                open_lst.remove(n)\n",
        "                closed_lst.add(n)\n",
        "        print('Path does not exist!')\n",
        "        return None\n",
        "adjac_lis={'A':[('B',1),('C', 3), ('D', 7)],\n",
        "            'B': [('D', 5)], 'C': [('D', 12)]}\n",
        "graph1 = Graph(adjac_lis)\n",
        "graph1.a_star_algorithm('A', 'D')\n",
        "\n",
        "\n",
        "\n",
        "\n",
        "\n"
      ],
      "metadata": {
        "colab": {
          "base_uri": "https://localhost:8080/"
        },
        "id": "kgWMIXAafMp4",
        "outputId": "16025624-7b78-4435-eb97-81d82ba1b6c2"
      },
      "execution_count": null,
      "outputs": [
        {
          "output_type": "stream",
          "name": "stdout",
          "text": [
            "path found :['A', 'B', 'D']\n"
          ]
        },
        {
          "output_type": "execute_result",
          "data": {
            "text/plain": [
              "['A', 'B', 'D']"
            ]
          },
          "metadata": {},
          "execution_count": 1
        }
      ]
    },
    {
      "cell_type": "code",
      "source": [],
      "metadata": {
        "id": "J-NG0B5wTcU-"
      },
      "execution_count": null,
      "outputs": []
    },
    {
      "cell_type": "code",
      "source": [
        "import random\n",
        "from graphviz import Graph\n",
        "\n",
        "def generate_random_graph(num_nodes, num_edges):\n",
        "    # Create a new Graphviz graph\n",
        "    g = Graph()\n",
        "\n",
        "    # Add nodes to the graph\n",
        "    for i in range(num_nodes):\n",
        "        g.node(str(i))\n",
        "\n",
        "    # Add random edges to the graph\n",
        "    edges = set()  # To avoid duplicate edges\n",
        "    while len(edges) < num_edges:\n",
        "        src = random.randint(0, num_nodes - 1)\n",
        "        dst = random.randint(0, num_nodes - 1)\n",
        "        if src != dst:  # Avoid self-loops\n",
        "            edges.add((src, dst))\n",
        "\n",
        "    for src, dst in edges:\n",
        "        g.edge(str(src), str(dst))\n",
        "\n",
        "    return g\n",
        "\n",
        "# Define the number of nodes and edges in the random graph\n",
        "num_nodes = 5\n",
        "num_edges = 7\n",
        "\n",
        "# Generate the random graph\n",
        "random_graph = generate_random_graph(num_nodes, num_edges)\n",
        "\n",
        "# Render and display the graph\n",
        "random_graph.render(\"random_graph\", format=\"png\", cleanup=True)\n",
        "random_graph.view()\n"
      ],
      "metadata": {
        "colab": {
          "base_uri": "https://localhost:8080/",
          "height": 36
        },
        "id": "U3jSo8vrgq1l",
        "outputId": "481c41de-b545-41b4-99ca-5a1dffd8fca1"
      },
      "execution_count": null,
      "outputs": [
        {
          "output_type": "execute_result",
          "data": {
            "text/plain": [
              "'random_graph.pdf'"
            ],
            "application/vnd.google.colaboratory.intrinsic+json": {
              "type": "string"
            }
          },
          "metadata": {},
          "execution_count": 2
        }
      ]
    },
    {
      "cell_type": "code",
      "source": [
        "#a star\n",
        "class Graph:\n",
        "    def __init__(self, adjac_lis):\n",
        "        self.adjac_lis = adjac_lis\n",
        "\n",
        "    def get_neighbors(self, v):\n",
        "        return self.adjac_lis[v]\n",
        "\n",
        "    def H(self, n):\n",
        "        h = {'A': 1, 'B': 1, 'C': 1, 'D': 1}\n",
        "        return h[n]\n",
        "\n",
        "    def a_star_algorithm(self, start, stop):\n",
        "        open_lst = set([start])\n",
        "        closed_lst = set([start])\n",
        "        g = {start: 0}\n",
        "        par = {start: start}\n",
        "\n",
        "        while len(open_lst) > 0:\n",
        "            n = None\n",
        "            for v in open_lst:\n",
        "                if n is None or g[v] + self.H(v) < g[n] + self.H(n):\n",
        "                    n = v\n",
        "            if n is None:\n",
        "                print('path unavailable')\n",
        "                return None\n",
        "            if n == stop:\n",
        "                reconst = []\n",
        "                while par[n] != n:\n",
        "                    reconst.append(n)\n",
        "                    n = par[n]\n",
        "                reconst.append(start)\n",
        "                reconst.reverse()\n",
        "                print('path found : {}'.format(reconst))\n",
        "                return reconst\n",
        "\n",
        "            for m, weight in self.get_neighbors(n):\n",
        "                if m not in open_lst and m not in closed_lst:\n",
        "                    open_lst.add(m)\n",
        "                    par[m] = n\n",
        "                    g[m] = g[n] + weight\n",
        "                else:\n",
        "                    if g[m] > g[n] + weight:\n",
        "                        g[m] = g[n] + weight\n",
        "                        par[m] = n\n",
        "                        if m in closed_lst:\n",
        "                            closed_lst.remove(m)\n",
        "                            open_lst.add(m)\n",
        "            open_lst.remove(n)\n",
        "            closed_lst.add(n)\n",
        "        print('path unavailable')\n",
        "        return None\n",
        "\n",
        "\n",
        "adjac_lis = {'A': [('B', 1), ('C', 3), ('D', 7)],\n",
        "             'B': [('D', 5)], 'C': [('D', 12)]}\n",
        "graph1 = Graph(adjac_lis)\n",
        "graph1.a_star_algorithm('A', 'D')\n"
      ],
      "metadata": {
        "colab": {
          "base_uri": "https://localhost:8080/"
        },
        "id": "wB1AWjJ0g0Pj",
        "outputId": "9f9acbcd-4438-473e-8f8d-0a3456ccf1c6"
      },
      "execution_count": null,
      "outputs": [
        {
          "output_type": "stream",
          "name": "stdout",
          "text": [
            "path found : ['A', 'B', 'D']\n"
          ]
        },
        {
          "output_type": "execute_result",
          "data": {
            "text/plain": [
              "['A', 'B', 'D']"
            ]
          },
          "metadata": {},
          "execution_count": 17
        }
      ]
    },
    {
      "cell_type": "code",
      "source": [
        "class Graph:\n",
        "  def __init__(self,adjac_lis):\n",
        "    self.adjac_lis= adjac_lis\n",
        "  def get_neighbors(self,n):\n",
        "    return self.adjac_lis[n]\n",
        "  def H(self, n):\n",
        "    h={'A':1,'B':1,'C':1, 'D':1}\n",
        "    return h[n]\n",
        "\n",
        "  def a_star_algorithm(self, start , stop):\n",
        "    g={}\n",
        "    g[start]=0\n",
        "    open_lst = set([start])\n",
        "    closed_lst = set([start])\n",
        "    par={start : start}\n",
        "\n",
        "    while len(open_lst)>0:\n",
        "      n=None\n",
        "      for v in open_lst:\n",
        "        if n==None or g[v]+self.H(v)<g[n]+self.H[n]:\n",
        "          n=v\n",
        "        if n is None:\n",
        "          print('path unavailable ')\n",
        "          return None\n",
        "        if n == stop:\n",
        "          reconst=[]\n",
        "          while par[n]!=n:\n",
        "            reconst.append(n)\n",
        "            n=par[n]\n",
        "          reconst.append(start)\n",
        "          reconst.reverse()\n",
        "          print('Path found :{}'.format(reconst))\n",
        "          return reconst\n",
        "\n",
        "        for (m, weight) in self.get_neighbors(n):\n",
        "          if m not in open_lst and m not in closed_lst:\n",
        "            open_lst.add(m)\n",
        "            par[m]=n\n",
        "            g[m]=g[n]+weight\n",
        "          else:\n",
        "            if g[m]>g[n]+weight:\n",
        "                g[m]=g[n]+weight\n",
        "                par[m]=n\n",
        "                if m in closed_lst:\n",
        "                  closed_lst.remove(m)\n",
        "                  open_lst.add(m)\n",
        "      open_lst.remove(n)\n",
        "      closed_lst.add(n)\n",
        "    print(\"path noot found\")\n",
        "    return None\n",
        "adjac_lis={'A':[('B',1),('C', 3), ('D', 7)],\n",
        "              'B': [('D', 5)], 'C': [('D', 12)]}\n",
        "graph = Graph(adjac_lis)\n",
        "graph.a_star_algorithm('A', 'D')\n",
        "\n",
        "\n",
        "\n"
      ],
      "metadata": {
        "colab": {
          "base_uri": "https://localhost:8080/",
          "height": 332
        },
        "id": "oZA-TH5ahKD1",
        "outputId": "601009f0-8b90-4983-8991-398860ce8754"
      },
      "execution_count": null,
      "outputs": [
        {
          "output_type": "error",
          "ename": "RuntimeError",
          "evalue": "Set changed size during iteration",
          "traceback": [
            "\u001b[0;31m---------------------------------------------------------------------------\u001b[0m",
            "\u001b[0;31mRuntimeError\u001b[0m                              Traceback (most recent call last)",
            "\u001b[0;32m<ipython-input-18-b991ecf6119e>\u001b[0m in \u001b[0;36m<cell line: 54>\u001b[0;34m()\u001b[0m\n\u001b[1;32m     52\u001b[0m               'B': [('D', 5)], 'C': [('D', 12)]}\n\u001b[1;32m     53\u001b[0m \u001b[0mgraph\u001b[0m \u001b[0;34m=\u001b[0m \u001b[0mGraph\u001b[0m\u001b[0;34m(\u001b[0m\u001b[0madjac_lis\u001b[0m\u001b[0;34m)\u001b[0m\u001b[0;34m\u001b[0m\u001b[0;34m\u001b[0m\u001b[0m\n\u001b[0;32m---> 54\u001b[0;31m \u001b[0mgraph\u001b[0m\u001b[0;34m.\u001b[0m\u001b[0ma_star_algorithm\u001b[0m\u001b[0;34m(\u001b[0m\u001b[0;34m'A'\u001b[0m\u001b[0;34m,\u001b[0m \u001b[0;34m'D'\u001b[0m\u001b[0;34m)\u001b[0m\u001b[0;34m\u001b[0m\u001b[0;34m\u001b[0m\u001b[0m\n\u001b[0m\u001b[1;32m     55\u001b[0m \u001b[0;34m\u001b[0m\u001b[0m\n\u001b[1;32m     56\u001b[0m \u001b[0;34m\u001b[0m\u001b[0m\n",
            "\u001b[0;32m<ipython-input-18-b991ecf6119e>\u001b[0m in \u001b[0;36ma_star_algorithm\u001b[0;34m(self, start, stop)\u001b[0m\n\u001b[1;32m     17\u001b[0m     \u001b[0;32mwhile\u001b[0m \u001b[0mlen\u001b[0m\u001b[0;34m(\u001b[0m\u001b[0mopen_lst\u001b[0m\u001b[0;34m)\u001b[0m\u001b[0;34m>\u001b[0m\u001b[0;36m0\u001b[0m\u001b[0;34m:\u001b[0m\u001b[0;34m\u001b[0m\u001b[0;34m\u001b[0m\u001b[0m\n\u001b[1;32m     18\u001b[0m       \u001b[0mn\u001b[0m\u001b[0;34m=\u001b[0m\u001b[0;32mNone\u001b[0m\u001b[0;34m\u001b[0m\u001b[0;34m\u001b[0m\u001b[0m\n\u001b[0;32m---> 19\u001b[0;31m       \u001b[0;32mfor\u001b[0m \u001b[0mv\u001b[0m \u001b[0;32min\u001b[0m \u001b[0mopen_lst\u001b[0m\u001b[0;34m:\u001b[0m\u001b[0;34m\u001b[0m\u001b[0;34m\u001b[0m\u001b[0m\n\u001b[0m\u001b[1;32m     20\u001b[0m         \u001b[0;32mif\u001b[0m \u001b[0mn\u001b[0m\u001b[0;34m==\u001b[0m\u001b[0;32mNone\u001b[0m \u001b[0;32mor\u001b[0m \u001b[0mg\u001b[0m\u001b[0;34m[\u001b[0m\u001b[0mv\u001b[0m\u001b[0;34m]\u001b[0m\u001b[0;34m+\u001b[0m\u001b[0mself\u001b[0m\u001b[0;34m.\u001b[0m\u001b[0mH\u001b[0m\u001b[0;34m(\u001b[0m\u001b[0mv\u001b[0m\u001b[0;34m)\u001b[0m\u001b[0;34m<\u001b[0m\u001b[0mg\u001b[0m\u001b[0;34m[\u001b[0m\u001b[0mn\u001b[0m\u001b[0;34m]\u001b[0m\u001b[0;34m+\u001b[0m\u001b[0mself\u001b[0m\u001b[0;34m.\u001b[0m\u001b[0mH\u001b[0m\u001b[0;34m[\u001b[0m\u001b[0mn\u001b[0m\u001b[0;34m]\u001b[0m\u001b[0;34m:\u001b[0m\u001b[0;34m\u001b[0m\u001b[0;34m\u001b[0m\u001b[0m\n\u001b[1;32m     21\u001b[0m           \u001b[0mn\u001b[0m\u001b[0;34m=\u001b[0m\u001b[0mv\u001b[0m\u001b[0;34m\u001b[0m\u001b[0;34m\u001b[0m\u001b[0m\n",
            "\u001b[0;31mRuntimeError\u001b[0m: Set changed size during iteration"
          ]
        }
      ]
    },
    {
      "cell_type": "code",
      "source": [],
      "metadata": {
        "colab": {
          "base_uri": "https://localhost:8080/",
          "height": 297
        },
        "id": "K9r9EHezdxuP",
        "outputId": "9cab2565-cdd3-465e-a0fa-c651cc2144e1"
      },
      "execution_count": null,
      "outputs": [
        {
          "output_type": "error",
          "ename": "TypeError",
          "evalue": "'method' object is not subscriptable",
          "traceback": [
            "\u001b[0;31m---------------------------------------------------------------------------\u001b[0m",
            "\u001b[0;31mTypeError\u001b[0m                                 Traceback (most recent call last)",
            "\u001b[0;32m<ipython-input-19-c7bcb9b9798b>\u001b[0m in \u001b[0;36m<cell line: 58>\u001b[0;34m()\u001b[0m\n\u001b[1;32m     56\u001b[0m              'B': [('D', 5)], 'C': [('D', 12)]}\n\u001b[1;32m     57\u001b[0m \u001b[0mgraph\u001b[0m \u001b[0;34m=\u001b[0m \u001b[0mGraph\u001b[0m\u001b[0;34m(\u001b[0m\u001b[0madjac_lis\u001b[0m\u001b[0;34m)\u001b[0m\u001b[0;34m\u001b[0m\u001b[0;34m\u001b[0m\u001b[0m\n\u001b[0;32m---> 58\u001b[0;31m \u001b[0mgraph\u001b[0m\u001b[0;34m.\u001b[0m\u001b[0ma_star_algorithm\u001b[0m\u001b[0;34m(\u001b[0m\u001b[0;34m'A'\u001b[0m\u001b[0;34m,\u001b[0m \u001b[0;34m'D'\u001b[0m\u001b[0;34m)\u001b[0m\u001b[0;34m\u001b[0m\u001b[0;34m\u001b[0m\u001b[0m\n\u001b[0m",
            "\u001b[0;32m<ipython-input-19-c7bcb9b9798b>\u001b[0m in \u001b[0;36ma_star_algorithm\u001b[0;34m(self, start, stop)\u001b[0m\n\u001b[1;32m     20\u001b[0m             \u001b[0mn\u001b[0m \u001b[0;34m=\u001b[0m \u001b[0;32mNone\u001b[0m\u001b[0;34m\u001b[0m\u001b[0;34m\u001b[0m\u001b[0m\n\u001b[1;32m     21\u001b[0m             \u001b[0;32mfor\u001b[0m \u001b[0mv\u001b[0m \u001b[0;32min\u001b[0m \u001b[0mopen_lst\u001b[0m\u001b[0;34m:\u001b[0m\u001b[0;34m\u001b[0m\u001b[0;34m\u001b[0m\u001b[0m\n\u001b[0;32m---> 22\u001b[0;31m                 \u001b[0;32mif\u001b[0m \u001b[0mn\u001b[0m \u001b[0;34m==\u001b[0m \u001b[0;32mNone\u001b[0m \u001b[0;32mor\u001b[0m \u001b[0mg\u001b[0m\u001b[0;34m[\u001b[0m\u001b[0mv\u001b[0m\u001b[0;34m]\u001b[0m \u001b[0;34m+\u001b[0m \u001b[0mself\u001b[0m\u001b[0;34m.\u001b[0m\u001b[0mH\u001b[0m\u001b[0;34m(\u001b[0m\u001b[0mv\u001b[0m\u001b[0;34m)\u001b[0m \u001b[0;34m<\u001b[0m \u001b[0mg\u001b[0m\u001b[0;34m[\u001b[0m\u001b[0mn\u001b[0m\u001b[0;34m]\u001b[0m \u001b[0;34m+\u001b[0m \u001b[0mself\u001b[0m\u001b[0;34m.\u001b[0m\u001b[0mH\u001b[0m\u001b[0;34m[\u001b[0m\u001b[0mn\u001b[0m\u001b[0;34m]\u001b[0m\u001b[0;34m:\u001b[0m\u001b[0;34m\u001b[0m\u001b[0;34m\u001b[0m\u001b[0m\n\u001b[0m\u001b[1;32m     23\u001b[0m                     \u001b[0mn\u001b[0m \u001b[0;34m=\u001b[0m \u001b[0mv\u001b[0m\u001b[0;34m\u001b[0m\u001b[0;34m\u001b[0m\u001b[0m\n\u001b[1;32m     24\u001b[0m             \u001b[0;32mif\u001b[0m \u001b[0mn\u001b[0m \u001b[0;34m==\u001b[0m \u001b[0;32mNone\u001b[0m\u001b[0;34m:\u001b[0m\u001b[0;34m\u001b[0m\u001b[0;34m\u001b[0m\u001b[0m\n",
            "\u001b[0;31mTypeError\u001b[0m: 'method' object is not subscriptable"
          ]
        }
      ]
    }
  ]
}